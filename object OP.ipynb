{
 "cells": [
  {
   "cell_type": "code",
   "execution_count": 1,
   "metadata": {},
   "outputs": [],
   "source": [
    "class Point(object):\n",
    "\n",
    "    def __init__(self, x, y):\n",
    "        self.x=str(x)\n",
    "        self.y=str(y)\n",
    "            \n",
    "    def __repr__(self):\n",
    "        return ('Point({}, {})'.format(self.x, self.y))\n",
    "    #\"Point(0,0)\""
   ]
  },
  {
   "cell_type": "code",
   "execution_count": 2,
   "metadata": {},
   "outputs": [],
   "source": [
    "points=Point(3, 2)\n"
   ]
  },
  {
   "cell_type": "code",
   "execution_count": 3,
   "metadata": {},
   "outputs": [
    {
     "data": {
      "text/plain": [
       "<function __main__.<lambda>(points)>"
      ]
     },
     "execution_count": 3,
     "metadata": {},
     "output_type": "execute_result"
    }
   ],
   "source": [
    "(lambda points: [str(Point(*point)) for point in points])"
   ]
  },
  {
   "cell_type": "code",
   "execution_count": 4,
   "metadata": {},
   "outputs": [],
   "source": [
    "class Point(object):\n",
    "\n",
    "    def __init__(self, x, y):\n",
    "        self.x=x\n",
    "        self.y=y\n",
    "            \n",
    "    def __repr__(self):\n",
    "        return ('Point({}, {})'.format(self.x, self.y))\n",
    "    #\"Point(0,0)\"\n",
    "    \n",
    "    def __add__(self, other):\n",
    "        return Point (self.x + other.x, self.y + other.y)\n",
    "    \n",
    "    def __sub__(self, other):\n",
    "        return Point (self.x - other.x, self.y - other.y)\n",
    "        #other_negated= other._negate()\n",
    "        #return self.__add__(other_negated)\n",
    "    \n",
    "    #def _negate(self):\n",
    "        #return Point(-self.x, -self.y)"
   ]
  },
  {
   "cell_type": "code",
   "execution_count": 6,
   "metadata": {},
   "outputs": [
    {
     "data": {
      "text/plain": [
       "<function __main__.add_sub_results(points)>"
      ]
     },
     "execution_count": 6,
     "metadata": {},
     "output_type": "execute_result"
    }
   ],
   "source": [
    "from functools import reduce\n",
    "def add_sub_results(points):\n",
    "    points = [Point(*point) for point in points]\n",
    "    return [str(reduce(lambda x, y: x + y, points)), \n",
    "            str(reduce(lambda x, y: x - y, points))]\n",
    "\n",
    "add_sub_results"
   ]
  },
  {
   "cell_type": "code",
   "execution_count": 7,
   "metadata": {},
   "outputs": [],
   "source": [
    "class Point(object):\n",
    "\n",
    "    def __init__(self, x, y):\n",
    "        self.x=x\n",
    "        self.y=y\n",
    "            \n",
    "    def __repr__(self):\n",
    "        return ('Point({}, {})'.format(self.x, self.y))\n",
    "    #\"Point(0,0)\"\n",
    "    \n",
    "    def __add__(self, other):\n",
    "        return Point (self.x + other.x, self.y + other.y)\n",
    "    \n",
    "    def __sub__(self, other):\n",
    "        return Point (self.x - other.x, self.y - other.y)\n",
    "        #other_negated= other._negate()\n",
    "        #return self.__add__(other_negated)\n",
    "    \n",
    "    #def _negate(self):\n",
    "        #return Point(-self.x, -self.y)\n",
    "        \n",
    "    def __mul__(self, other):\n",
    "        if isinstance (other, (int, float)):\n",
    "            return Point(other.x * self.x, other.y * self.y)\n",
    "        else:\n",
    "            return self.x * other.x + self.y * other.y"
   ]
  },
  {
   "cell_type": "code",
   "execution_count": 9,
   "metadata": {},
   "outputs": [
    {
     "data": {
      "text/plain": [
       "<function __main__.mult_result(points)>"
      ]
     },
     "execution_count": 9,
     "metadata": {},
     "output_type": "execute_result"
    }
   ],
   "source": [
    "def mult_result(points):\n",
    "    points = [Point(*point) for point in points]\n",
    "    return [point*point*2 for point in points]\n",
    "\n",
    "mult_result"
   ]
  },
  {
   "cell_type": "code",
   "execution_count": 8,
   "metadata": {},
   "outputs": [],
   "source": [
    "from math import sqrt\n",
    "\n",
    "class Point(object):\n",
    "\n",
    "    def __init__(self, x, y):\n",
    "        self.x=x\n",
    "        self.y=y\n",
    "            \n",
    "    def __repr__(self):\n",
    "        return ('Point({}, {})'.format(self.x, self.y))\n",
    "    #\"Point(0,0)\"\n",
    "    \n",
    "    def __add__(self, other):\n",
    "        return Point (self.x + other.x, self.y + other.y)\n",
    "    \n",
    "    def __sub__(self, other):\n",
    "        return Point (self.x - other.x, self.y - other.y)\n",
    "        #other_negated= other._negate()\n",
    "        #return self.__add__(other_negated)\n",
    "    \n",
    "    #def _negate(self):\n",
    "        #return Point(-self.x, -self.y)\n",
    "        \n",
    "    def __mul__(self, other):\n",
    "        if isinstance (other, (int, float)):\n",
    "            return Point(other.x * self.x, other.y * self.y)\n",
    "        else:\n",
    "            return self.x * other.x + self.y * other.y\n",
    "        \n",
    "    def distance(self, other):\n",
    "       displacement= self - other\n",
    "    \n",
    "       return (sqrt(displacement.x**2 + displacement.y**2))"
   ]
  },
  {
   "cell_type": "code",
   "execution_count": 10,
   "metadata": {},
   "outputs": [
    {
     "data": {
      "text/plain": [
       "<function __main__.dist_result(points)>"
      ]
     },
     "execution_count": 10,
     "metadata": {},
     "output_type": "execute_result"
    }
   ],
   "source": [
    "def dist_result(points):\n",
    "    points = [Point(*point) for point in points]\n",
    "    return [points[0].distance(point) for point in points]\n",
    "\n",
    "dist_result"
   ]
  },
  {
   "cell_type": "code",
   "execution_count": null,
   "metadata": {},
   "outputs": [],
   "source": [
    "class Cluster(object):\n",
    "    def __init__(self, x, y):\n",
    "        self.center = Point(x, y)\n",
    "        self.points = []\n",
    "    \n",
    "    def update(self):\n",
    "        x_center= sum([point.x for point in self.points])/ len(self.points)\n",
    "        y_center= sum([point.y for point in self.points])/ len(self.points)\n",
    "        self.center= Point(x_center, y_center)\n",
    "        self.points=[]\n",
    "    \n",
    "    def add_point(self, point):\n",
    "        self.points.append(point)"
   ]
  },
  {
   "cell_type": "code",
   "execution_count": 11,
   "metadata": {},
   "outputs": [],
   "source": [
    "def compute_result(points):\n",
    "    points = [Point(*point) for point in points]\n",
    "    a = Cluster(1, 0)\n",
    "    b = Cluster(-1, 0)\n",
    "    a_old = []\n",
    "    for _ in range(10000): # max iterations\n",
    "        a = Cluster(a.center.x, a.center.y)\n",
    "        b = Cluster(b.center.x, b.center.y)\n",
    "        for point in points:\n",
    "            if point.distance(a.center) < point.distance(b.center):\n",
    "                # add the right point\n",
    "                a.add_point(point)\n",
    "            \n",
    "            else:\n",
    "                # add the right point\n",
    "                b.add_point(point)\n",
    "                \n",
    "        if a_old == a.points:\n",
    "            break\n",
    "        a_old = a.points\n",
    "        a.update()\n",
    "        b.update()\n",
    "    # return [(x, y)] * 2\n",
    "    return [(a.center.x, a.center.y),(b.center.x, b.center.y)]"
   ]
  },
  {
   "cell_type": "code",
   "execution_count": 12,
   "metadata": {},
   "outputs": [
    {
     "data": {
      "text/plain": [
       "<function __main__.compute_result(points)>"
      ]
     },
     "execution_count": 12,
     "metadata": {},
     "output_type": "execute_result"
    }
   ],
   "source": [
    "\n",
    "compute_result"
   ]
  },
  {
   "cell_type": "code",
   "execution_count": null,
   "metadata": {},
   "outputs": [],
   "source": []
  }
 ],
 "metadata": {
  "kernelspec": {
   "display_name": "Python 3",
   "language": "python",
   "name": "python3"
  },
  "language_info": {
   "codemirror_mode": {
    "name": "ipython",
    "version": 3
   },
   "file_extension": ".py",
   "mimetype": "text/x-python",
   "name": "python",
   "nbconvert_exporter": "python",
   "pygments_lexer": "ipython3",
   "version": "3.7.4"
  }
 },
 "nbformat": 4,
 "nbformat_minor": 4
}
